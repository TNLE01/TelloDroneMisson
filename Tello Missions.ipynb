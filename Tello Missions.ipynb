{
 "cells": [
  {
   "cell_type": "markdown",
   "id": "3881c5cc",
   "metadata": {},
   "source": [
    "## Tello drone ToF camera module \n",
    "https://github.com/damiafuentes/DJITelloPy/blob/master/djitellopy/tello.py"
   ]
  },
  {
   "cell_type": "code",
   "execution_count": 1,
   "id": "3e613b99",
   "metadata": {},
   "outputs": [
    {
     "name": "stdout",
     "output_type": "stream",
     "text": [
      "Requirement already satisfied: opencv-python in c:\\users\\owner\\anaconda3\\lib\\site-packages (4.8.0.76)\n",
      "Requirement already satisfied: numpy>=1.21.2 in c:\\users\\owner\\anaconda3\\lib\\site-packages (from opencv-python) (1.24.3)\n"
     ]
    }
   ],
   "source": [
    "! pip install opencv-python"
   ]
  },
  {
   "cell_type": "code",
   "execution_count": 2,
   "id": "eda1d50a",
   "metadata": {},
   "outputs": [
    {
     "name": "stdout",
     "output_type": "stream",
     "text": [
      "Requirement already satisfied: keyboard in c:\\users\\owner\\anaconda3\\lib\\site-packages (0.13.5)\n"
     ]
    }
   ],
   "source": [
    "! pip install keyboard"
   ]
  },
  {
   "cell_type": "code",
   "execution_count": 1,
   "id": "caa65693",
   "metadata": {},
   "outputs": [
    {
     "name": "stderr",
     "output_type": "stream",
     "text": [
      "[INFO] tello.py - 129 - Tello instance was initialized. Host: '192.168.10.1'. Port: '8889'.\n"
     ]
    }
   ],
   "source": [
    "from djitellopy import Tello\n",
    "import time\n",
    "from time import sleep\n",
    "import cv2\n",
    "import keyboard\n",
    "import threading\n",
    "tello = Tello()\n"
   ]
  },
  {
   "cell_type": "code",
   "execution_count": 2,
   "id": "3b762af8",
   "metadata": {},
   "outputs": [
    {
     "name": "stderr",
     "output_type": "stream",
     "text": [
      "[INFO] tello.py - 438 - Send command: 'command'\n",
      "[INFO] tello.py - 462 - Response command: 'ok'\n"
     ]
    },
    {
     "data": {
      "text/plain": [
       "100"
      ]
     },
     "execution_count": 2,
     "metadata": {},
     "output_type": "execute_result"
    }
   ],
   "source": [
    "tello.connect()\n",
    "tello.get_battery()"
   ]
  },
  {
   "cell_type": "code",
   "execution_count": 3,
   "id": "babda618",
   "metadata": {},
   "outputs": [
    {
     "name": "stderr",
     "output_type": "stream",
     "text": [
      "[INFO] tello.py - 438 - Send command: 'streamon'\n",
      "[INFO] tello.py - 462 - Response streamon: 'ok'\n",
      "non-existing PPS 0 referenced\n",
      "non-existing PPS 0 referenced\n",
      "decode_slice_header error\n",
      "no frame!\n",
      "non-existing PPS 0 referenced\n",
      "non-existing PPS 0 referenced\n",
      "decode_slice_header error\n",
      "no frame!\n",
      "non-existing PPS 0 referenced\n",
      "non-existing PPS 0 referenced\n",
      "decode_slice_header error\n",
      "no frame!\n",
      "non-existing PPS 0 referenced\n",
      "non-existing PPS 0 referenced\n",
      "decode_slice_header error\n",
      "no frame!\n",
      "non-existing PPS 0 referenced\n",
      "non-existing PPS 0 referenced\n",
      "decode_slice_header error\n",
      "no frame!\n",
      "non-existing PPS 0 referenced\n",
      "non-existing PPS 0 referenced\n",
      "decode_slice_header error\n",
      "no frame!\n",
      "non-existing PPS 0 referenced\n",
      "non-existing PPS 0 referenced\n",
      "decode_slice_header error\n",
      "no frame!\n",
      "non-existing PPS 0 referenced\n",
      "non-existing PPS 0 referenced\n",
      "decode_slice_header error\n",
      "no frame!\n",
      "non-existing PPS 0 referenced\n",
      "non-existing PPS 0 referenced\n",
      "decode_slice_header error\n",
      "no frame!\n",
      "non-existing PPS 0 referenced\n",
      "non-existing PPS 0 referenced\n",
      "decode_slice_header error\n",
      "no frame!\n",
      "non-existing PPS 0 referenced\n",
      "non-existing PPS 0 referenced\n",
      "decode_slice_header error\n",
      "no frame!\n",
      "non-existing PPS 0 referenced\n",
      "non-existing PPS 0 referenced\n",
      "decode_slice_header error\n",
      "no frame!\n",
      "non-existing PPS 0 referenced\n",
      "non-existing PPS 0 referenced\n",
      "decode_slice_header error\n",
      "no frame!\n",
      "non-existing PPS 0 referenced\n",
      "non-existing PPS 0 referenced\n",
      "decode_slice_header error\n",
      "no frame!\n",
      "non-existing PPS 0 referenced\n",
      "non-existing PPS 0 referenced\n",
      "decode_slice_header error\n",
      "no frame!\n",
      "non-existing PPS 0 referenced\n",
      "non-existing PPS 0 referenced\n",
      "decode_slice_header error\n",
      "no frame!\n",
      "non-existing PPS 0 referenced\n",
      "non-existing PPS 0 referenced\n",
      "decode_slice_header error\n",
      "no frame!\n",
      "non-existing PPS 0 referenced\n",
      "non-existing PPS 0 referenced\n",
      "decode_slice_header error\n",
      "no frame!\n",
      "[INFO] tello.py - 438 - Send command: 'takeoff'\n",
      "[INFO] tello.py - 462 - Response takeoff: 'ok'\n"
     ]
    },
    {
     "name": "stdout",
     "output_type": "stream",
     "text": [
      "6\n"
     ]
    },
    {
     "name": "stderr",
     "output_type": "stream",
     "text": [
      "[INFO] tello.py - 438 - Send command: 'forward 50'\n"
     ]
    },
    {
     "data": {
      "text/plain": [
       "100"
      ]
     },
     "execution_count": 3,
     "metadata": {},
     "output_type": "execute_result"
    },
    {
     "name": "stderr",
     "output_type": "stream",
     "text": [
      "[INFO] tello.py - 462 - Response forward 50: 'ok'\n",
      "[INFO] tello.py - 438 - Send command: 'forward 50'\n"
     ]
    },
    {
     "name": "stdout",
     "output_type": "stream",
     "text": [
      "76\n"
     ]
    },
    {
     "name": "stderr",
     "output_type": "stream",
     "text": [
      "error while decoding MB 30 39, bytestream -12\n",
      "[INFO] tello.py - 462 - Response forward 50: 'ok'\n",
      "[INFO] tello.py - 438 - Send command: 'forward 50'\n"
     ]
    },
    {
     "name": "stdout",
     "output_type": "stream",
     "text": [
      "77\n"
     ]
    },
    {
     "name": "stderr",
     "output_type": "stream",
     "text": [
      "[INFO] tello.py - 462 - Response forward 50: 'ok'\n",
      "[INFO] tello.py - 438 - Send command: 'forward 50'\n"
     ]
    },
    {
     "name": "stdout",
     "output_type": "stream",
     "text": [
      "145\n"
     ]
    },
    {
     "name": "stderr",
     "output_type": "stream",
     "text": [
      "[INFO] tello.py - 462 - Response forward 50: 'ok'\n",
      "[INFO] tello.py - 438 - Send command: 'forward 50'\n"
     ]
    },
    {
     "name": "stdout",
     "output_type": "stream",
     "text": [
      "148\n"
     ]
    },
    {
     "name": "stderr",
     "output_type": "stream",
     "text": [
      "[INFO] tello.py - 462 - Response forward 50: 'ok'\n",
      "[INFO] tello.py - 438 - Send command: 'forward 50'\n"
     ]
    },
    {
     "name": "stdout",
     "output_type": "stream",
     "text": [
      "147\n"
     ]
    },
    {
     "name": "stderr",
     "output_type": "stream",
     "text": [
      "[INFO] tello.py - 462 - Response forward 50: 'ok'\n",
      "[INFO] tello.py - 438 - Send command: 'right 60'\n"
     ]
    },
    {
     "name": "stdout",
     "output_type": "stream",
     "text": [
      "147\n",
      "Person detected\n",
      "8\n",
      "Correct Person found\n"
     ]
    },
    {
     "name": "stderr",
     "output_type": "stream",
     "text": [
      "[INFO] tello.py - 462 - Response right 60: 'ok'\n",
      "[INFO] tello.py - 438 - Send command: 'forward 20'\n",
      "[INFO] tello.py - 462 - Response forward 20: 'ok'\n",
      "[INFO] tello.py - 438 - Send command: 'forward 20'\n"
     ]
    },
    {
     "name": "stdout",
     "output_type": "stream",
     "text": [
      "Distance from ground\n",
      "146\n"
     ]
    },
    {
     "name": "stderr",
     "output_type": "stream",
     "text": [
      "[INFO] tello.py - 462 - Response forward 20: 'ok'\n",
      "[INFO] tello.py - 438 - Send command: 'forward 20'\n"
     ]
    },
    {
     "name": "stdout",
     "output_type": "stream",
     "text": [
      "Distance from ground\n",
      "146\n"
     ]
    },
    {
     "name": "stderr",
     "output_type": "stream",
     "text": [
      "[INFO] tello.py - 462 - Response forward 20: 'ok'\n",
      "[INFO] tello.py - 438 - Send command: 'forward 20'\n"
     ]
    },
    {
     "name": "stdout",
     "output_type": "stream",
     "text": [
      "Distance from ground\n",
      "148\n"
     ]
    },
    {
     "name": "stderr",
     "output_type": "stream",
     "text": [
      "[INFO] tello.py - 462 - Response forward 20: 'ok'\n",
      "[INFO] tello.py - 438 - Send command: 'forward 20'\n"
     ]
    },
    {
     "name": "stdout",
     "output_type": "stream",
     "text": [
      "Distance from ground\n",
      "148\n"
     ]
    },
    {
     "name": "stderr",
     "output_type": "stream",
     "text": [
      "[INFO] tello.py - 462 - Response forward 20: 'ok'\n",
      "[INFO] tello.py - 438 - Send command: 'forward 20'\n"
     ]
    },
    {
     "name": "stdout",
     "output_type": "stream",
     "text": [
      "Distance from ground\n",
      "147\n"
     ]
    },
    {
     "name": "stderr",
     "output_type": "stream",
     "text": [
      "[INFO] tello.py - 462 - Response forward 20: 'ok'\n",
      "[INFO] tello.py - 438 - Send command: 'cw 180'\n"
     ]
    },
    {
     "name": "stdout",
     "output_type": "stream",
     "text": [
      "Distance from ground\n",
      "147\n"
     ]
    },
    {
     "name": "stderr",
     "output_type": "stream",
     "text": [
      "[INFO] tello.py - 462 - Response cw 180: 'ok'\n",
      "[INFO] tello.py - 438 - Send command: 'right 20'\n",
      "[INFO] tello.py - 462 - Response right 20: 'ok'\n",
      "[INFO] tello.py - 438 - Send command: 'forward 20'\n",
      "[INFO] tello.py - 462 - Response forward 20: 'ok'\n",
      "[INFO] tello.py - 438 - Send command: 'forward 20'\n"
     ]
    },
    {
     "name": "stdout",
     "output_type": "stream",
     "text": [
      "Distance from ground\n",
      "151\n"
     ]
    },
    {
     "name": "stderr",
     "output_type": "stream",
     "text": [
      "[INFO] tello.py - 462 - Response forward 20: 'ok'\n",
      "[INFO] tello.py - 438 - Send command: 'forward 20'\n"
     ]
    },
    {
     "name": "stdout",
     "output_type": "stream",
     "text": [
      "Distance from ground\n",
      "147\n"
     ]
    },
    {
     "name": "stderr",
     "output_type": "stream",
     "text": [
      "[INFO] tello.py - 462 - Response forward 20: 'ok'\n",
      "[INFO] tello.py - 438 - Send command: 'forward 20'\n"
     ]
    },
    {
     "name": "stdout",
     "output_type": "stream",
     "text": [
      "Distance from ground\n",
      "147\n"
     ]
    },
    {
     "name": "stderr",
     "output_type": "stream",
     "text": [
      "[INFO] tello.py - 462 - Response forward 20: 'ok'\n",
      "[INFO] tello.py - 438 - Send command: 'forward 20'\n"
     ]
    },
    {
     "name": "stdout",
     "output_type": "stream",
     "text": [
      "Distance from ground\n",
      "148\n"
     ]
    },
    {
     "name": "stderr",
     "output_type": "stream",
     "text": [
      "[INFO] tello.py - 462 - Response forward 20: 'ok'\n",
      "[INFO] tello.py - 438 - Send command: 'forward 20'\n"
     ]
    },
    {
     "name": "stdout",
     "output_type": "stream",
     "text": [
      "Distance from ground\n",
      "148\n"
     ]
    },
    {
     "name": "stderr",
     "output_type": "stream",
     "text": [
      "[INFO] tello.py - 462 - Response forward 20: 'ok'\n",
      "[INFO] tello.py - 438 - Send command: 'cw 180'\n"
     ]
    },
    {
     "name": "stdout",
     "output_type": "stream",
     "text": [
      "Distance from ground\n",
      "146\n"
     ]
    },
    {
     "name": "stderr",
     "output_type": "stream",
     "text": [
      "[INFO] tello.py - 462 - Response cw 180: 'ok'\n",
      "[INFO] tello.py - 438 - Send command: 'left 20'\n",
      "[INFO] tello.py - 462 - Response left 20: 'ok'\n",
      "[INFO] tello.py - 438 - Send command: 'forward 20'\n",
      "[INFO] tello.py - 462 - Response forward 20: 'ok'\n",
      "[INFO] tello.py - 438 - Send command: 'forward 20'\n"
     ]
    },
    {
     "name": "stdout",
     "output_type": "stream",
     "text": [
      "Distance from ground\n",
      "147\n"
     ]
    },
    {
     "name": "stderr",
     "output_type": "stream",
     "text": [
      "[INFO] tello.py - 462 - Response forward 20: 'ok'\n",
      "[INFO] tello.py - 438 - Send command: 'forward 20'\n"
     ]
    },
    {
     "name": "stdout",
     "output_type": "stream",
     "text": [
      "Distance from ground\n",
      "148\n"
     ]
    },
    {
     "name": "stderr",
     "output_type": "stream",
     "text": [
      "[INFO] tello.py - 462 - Response forward 20: 'ok'\n",
      "[INFO] tello.py - 438 - Send command: 'forward 20'\n"
     ]
    },
    {
     "name": "stdout",
     "output_type": "stream",
     "text": [
      "Distance from ground\n",
      "145\n"
     ]
    },
    {
     "name": "stderr",
     "output_type": "stream",
     "text": [
      "[INFO] tello.py - 462 - Response forward 20: 'ok'\n",
      "[INFO] tello.py - 438 - Send command: 'down 116'\n"
     ]
    },
    {
     "name": "stdout",
     "output_type": "stream",
     "text": [
      "Distance from ground\n",
      "136\n",
      "Lowering Supply\n"
     ]
    },
    {
     "name": "stderr",
     "output_type": "stream",
     "text": [
      "[INFO] tello.py - 462 - Response down 116: 'ok'\n",
      "[INFO] tello.py - 438 - Send command: 'up 116'\n",
      "error while decoding MB 50 44, bytestream -10\n",
      "[INFO] tello.py - 462 - Response up 116: 'ok'\n",
      "[INFO] tello.py - 438 - Send command: 'cw 180'\n",
      "[INFO] tello.py - 462 - Response cw 180: 'ok'\n",
      "[INFO] tello.py - 438 - Send command: 'forward 50'\n"
     ]
    },
    {
     "name": "stdout",
     "output_type": "stream",
     "text": [
      "Returning home\n"
     ]
    },
    {
     "name": "stderr",
     "output_type": "stream",
     "text": [
      "[INFO] tello.py - 462 - Response forward 50: 'ok'\n",
      "[INFO] tello.py - 438 - Send command: 'forward 50'\n",
      "[INFO] tello.py - 462 - Response forward 50: 'ok'\n",
      "[INFO] tello.py - 438 - Send command: 'forward 50'\n",
      "[INFO] tello.py - 462 - Response forward 50: 'ok'\n",
      "[INFO] tello.py - 438 - Send command: 'forward 50'\n",
      "[INFO] tello.py - 462 - Response forward 50: 'ok'\n",
      "[INFO] tello.py - 438 - Send command: 'forward 50'\n",
      "[INFO] tello.py - 462 - Response forward 50: 'ok'\n",
      "[INFO] tello.py - 438 - Send command: 'forward 50'\n",
      "[INFO] tello.py - 462 - Response forward 50: 'ok'\n",
      "[INFO] tello.py - 438 - Send command: 'forward 50'\n",
      "[INFO] tello.py - 462 - Response forward 50: 'ok'\n",
      "[INFO] tello.py - 438 - Send command: 'forward 60'\n"
     ]
    },
    {
     "name": "stdout",
     "output_type": "stream",
     "text": [
      "Home\n"
     ]
    },
    {
     "name": "stderr",
     "output_type": "stream",
     "text": [
      "[INFO] tello.py - 462 - Response forward 60: 'ok'\n",
      "[INFO] tello.py - 438 - Send command: 'land'\n",
      "error while decoding MB 50 41, bytestream -8\n",
      "error while decoding MB 23 14, bytestream -8\n",
      "left block unavailable for requested intra mode\n",
      "error while decoding MB 0 32, bytestream 1508\n",
      "[INFO] tello.py - 462 - Response land: 'ok'\n",
      "[INFO] tello.py - 438 - Send command: 'forward 50'\n",
      "[INFO] tello.py - 462 - Response forward 50: 'error Motor stop'\n",
      "[INFO] tello.py - 438 - Send command: 'forward 50'\n",
      "[INFO] tello.py - 462 - Response forward 50: 'error Motor stop'\n"
     ]
    },
    {
     "name": "stdout",
     "output_type": "stream",
     "text": [
      "6\n"
     ]
    },
    {
     "name": "stderr",
     "output_type": "stream",
     "text": [
      "[INFO] tello.py - 438 - Send command: 'forward 50'\n",
      "[INFO] tello.py - 462 - Response forward 50: 'error Motor stop'\n",
      "Exception in thread Thread-9 (fly):\n",
      "Traceback (most recent call last):\n",
      "  File \"C:\\Users\\Owner\\anaconda3\\Lib\\threading.py\", line 1038, in _bootstrap_inner\n",
      "    self.run()\n",
      "  File \"C:\\Users\\Owner\\anaconda3\\Lib\\threading.py\", line 975, in run\n",
      "    self._target(*self._args, **self._kwargs)\n",
      "  File \"C:\\Users\\Owner\\AppData\\Local\\Temp\\ipykernel_24976\\2141188596.py\", line 28, in fly\n",
      "  File \"C:\\Users\\Owner\\anaconda3\\Lib\\site-packages\\djitellopy\\enforce_types.py\", line 54, in wrapper\n",
      "    return func(*args, **kwargs)\n",
      "           ^^^^^^^^^^^^^^^^^^^^^\n",
      "  File \"C:\\Users\\Owner\\anaconda3\\Lib\\site-packages\\djitellopy\\tello.py\", line 656, in move_forward\n",
      "    self.move(\"forward\", x)\n",
      "  File \"C:\\Users\\Owner\\anaconda3\\Lib\\site-packages\\djitellopy\\enforce_types.py\", line 54, in wrapper\n",
      "    return func(*args, **kwargs)\n",
      "           ^^^^^^^^^^^^^^^^^^^^^\n",
      "  File \"C:\\Users\\Owner\\anaconda3\\Lib\\site-packages\\djitellopy\\tello.py\", line 621, in move\n",
      "    self.send_control_command(\"{} {}\".format(direction, x))\n",
      "  File \"C:\\Users\\Owner\\anaconda3\\Lib\\site-packages\\djitellopy\\enforce_types.py\", line 54, in wrapper\n",
      "    return func(*args, **kwargs)\n",
      "           ^^^^^^^^^^^^^^^^^^^^^\n",
      "  File \"C:\\Users\\Owner\\anaconda3\\Lib\\site-packages\\djitellopy\\tello.py\", line 487, in send_control_command\n",
      "    self.raise_result_error(command, response)\n",
      "  File \"C:\\Users\\Owner\\anaconda3\\Lib\\site-packages\\djitellopy\\enforce_types.py\", line 54, in wrapper\n",
      "    return func(*args, **kwargs)\n",
      "           ^^^^^^^^^^^^^^^^^^^^^\n",
      "  File \"C:\\Users\\Owner\\anaconda3\\Lib\\site-packages\\djitellopy\\tello.py\", line 529, in raise_result_error\n",
      "    raise TelloException(\"Command '{}' was unsuccessful for {} tries. Latest response:\\t'{}'\"\n",
      "djitellopy.tello.TelloException: Command 'forward 50' was unsuccessful for 4 tries. Latest response:\t'error Motor stop'\n"
     ]
    }
   ],
   "source": [
    "#Updated Mission\n",
    "\n",
    "tello.streamon()\n",
    "def video_thread():\n",
    "    while True:\n",
    "        img = tello.get_frame_read().frame  # Individual images\n",
    "        img = cv2.resize(img, (360,240)) # Resize the image using opencv library\n",
    "        cv2.imshow(\"Image\", img)\n",
    "        cv2.waitKey(1) # wait for 1ms \n",
    "        #Delay for vieweing\n",
    "        if cv2.waitKey(1) == ord('q'):  # Press 'q' to exit the loop\n",
    "            break\n",
    "\n",
    "\n",
    "cv2.destroyAllWindows()\n",
    "def send_command(command):\n",
    "    tello.send_control_command(command)\n",
    "    time.sleep(0.5)\n",
    "\n",
    "def fly():\n",
    "    while True:\n",
    "        \n",
    "        initial_pad = tello.get_mission_pad_id()\n",
    "        print(initial_pad)\n",
    "        face = 0 # 0 = away, 1 = facing\n",
    "        while True:\n",
    "            \n",
    "            tello.move_forward(50)\n",
    "            distance = tello.get_distance_tof()\n",
    "            print(distance)\n",
    "            if initial_pad != tello.get_mission_pad_id():\n",
    "                print(\"Person detected\")\n",
    "                print(tello.get_mission_pad_id())\n",
    "                if tello.get_mission_pad_id() == 8:\n",
    "                    print(\"Correct Person found\")\n",
    "\n",
    "                    tello.move_right(60)\n",
    "                    detection = False\n",
    "            \n",
    "                    for i in range(12):\n",
    "                \n",
    "                        for j in range(6):\n",
    "                    \n",
    "                            tello.move_forward(20)\n",
    "                            distance2 = tello.get_distance_tof()\n",
    "                            print(\"Distance from ground\")\n",
    "                            print(distance2)\n",
    "                            if distance2 < (distance - 10):\n",
    "                                detection = True\n",
    "                                break\n",
    "                        if detection == True:\n",
    "                            break\n",
    "                        tello.rotate_clockwise(180)\n",
    "                        if ((i + 1) % 2 == 0):\n",
    "                            tello.move_left(20)\n",
    "                            face = 0\n",
    "                        else:\n",
    "                            tello.move_right(20)\n",
    "                            face = 1\n",
    "\n",
    "                    if detection == True:\n",
    "                \n",
    "                        print(\"Lowering Supply\")\n",
    "                        tello.move_down(distance2 - 20)\n",
    "                        time.sleep(5)\n",
    "                        tello.move_up(distance2 - 20)\n",
    "                    else:\n",
    "                        print(\"Fail To Locate Person\")\n",
    "                    break\n",
    "                \n",
    "        if face == 0:\n",
    "            tello.rotate_clockwise(180)\n",
    "        print(\"Returning home\")\n",
    "        while True:\n",
    "            tello.move_forward(50)\n",
    "            if initial_pad == tello.get_mission_pad_id():\n",
    "                print(\"Home\")\n",
    "                tello.move_forward(60)\n",
    "                tello.land()\n",
    "                break\n",
    "        \n",
    "video_thread = threading.Thread(target=video_thread)\n",
    "video_thread.start()    \n",
    "time.sleep(1)\n",
    "send_command(\"takeoff\")\n",
    "fly_thread = threading.Thread(target=fly)\n",
    "fly_thread.start()   \n",
    "# Release the video window\n",
    "tello.get_battery()\n",
    "\n"
   ]
  },
  {
   "cell_type": "code",
   "execution_count": 4,
   "id": "0c9b3166",
   "metadata": {},
   "outputs": [
    {
     "name": "stderr",
     "output_type": "stream",
     "text": [
      "[INFO] tello.py - 438 - Send command: 'command'\n",
      "[INFO] tello.py - 462 - Response command: 'ok'\n"
     ]
    },
    {
     "data": {
      "text/plain": [
       "85"
      ]
     },
     "execution_count": 4,
     "metadata": {},
     "output_type": "execute_result"
    }
   ],
   "source": [
    "tello.connect()\n",
    "tello.get_battery()"
   ]
  },
  {
   "cell_type": "code",
   "execution_count": null,
   "id": "20e59f46",
   "metadata": {},
   "outputs": [],
   "source": []
  }
 ],
 "metadata": {
  "kernelspec": {
   "display_name": "Python 3 (ipykernel)",
   "language": "python",
   "name": "python3"
  },
  "language_info": {
   "codemirror_mode": {
    "name": "ipython",
    "version": 3
   },
   "file_extension": ".py",
   "mimetype": "text/x-python",
   "name": "python",
   "nbconvert_exporter": "python",
   "pygments_lexer": "ipython3",
   "version": "3.11.4"
  }
 },
 "nbformat": 4,
 "nbformat_minor": 5
}
